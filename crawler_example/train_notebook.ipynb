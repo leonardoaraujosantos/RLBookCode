{
 "cells": [
  {
   "cell_type": "markdown",
   "metadata": {},
   "source": [
    "# Q-Learning (Crawling Robot)"
   ]
  },
  {
   "cell_type": "code",
   "execution_count": 1,
   "metadata": {},
   "outputs": [],
   "source": [
    "from agent import Q_Agent\n",
    "import numpy as np\n",
    "import math\n",
    "import matplotlib.pyplot as plt\n",
    "from crawler_env import CrawlingRobotEnv\n",
    "\n",
    "initial_e_greedy_prob = 0.9\n",
    "all_rewards = 0\n",
    "total_reward = 0\n",
    "num_iterations_train = 1000\n",
    "eval_iterations = 100\n",
    "\n",
    "# Lego-Robot States and Action spaces\n",
    "n_arms_state, n_hand_state = (3,3)"
   ]
  },
  {
   "cell_type": "markdown",
   "metadata": {},
   "source": [
    "#### Create Environment"
   ]
  },
  {
   "cell_type": "code",
   "execution_count": 2,
   "metadata": {},
   "outputs": [],
   "source": [
    "env = CrawlingRobotEnv(render=True, n_arms_state=n_arms_state, n_hand_state=n_hand_state)\n",
    "current_state = env.reset()"
   ]
  },
  {
   "cell_type": "markdown",
   "metadata": {},
   "source": [
    "### Action and State space"
   ]
  },
  {
   "cell_type": "code",
   "execution_count": 3,
   "metadata": {},
   "outputs": [
    {
     "name": "stdout",
     "output_type": "stream",
     "text": [
      "Robot action space: 6\n",
      "Robot state-space: 9\n",
      "Reset State: 4\n"
     ]
    }
   ],
   "source": [
    "# Get the action space\n",
    "print('Robot action space:', env.action_space.n)\n",
    "print('Robot state-space:', np.prod([state.n for state in env.observation_space]))\n",
    "print('Reset State:', current_state)"
   ]
  },
  {
   "cell_type": "markdown",
   "metadata": {},
   "source": [
    "#### Create Agent"
   ]
  },
  {
   "cell_type": "code",
   "execution_count": 13,
   "metadata": {},
   "outputs": [],
   "source": [
    "agent = Q_Agent(env, gamma=0.9, alpha=0.2, e_greedy_prob=initial_e_greedy_prob)"
   ]
  },
  {
   "cell_type": "markdown",
   "metadata": {},
   "source": [
    "##### Agent Internal Action-Space table"
   ]
  },
  {
   "cell_type": "code",
   "execution_count": 5,
   "metadata": {},
   "outputs": [
    {
     "data": {
      "image/png": "[encoded data removed]",
      "text/plain": [
       "<Figure size 432x288 with 1 Axes>"
      ]
     },
     "metadata": {
      "needs_background": "light"
     },
     "output_type": "display_data"
    }
   ],
   "source": [
    "plt.imshow(agent.q_val_table)\n",
    "plt.show()"
   ]
  },
  {
   "cell_type": "markdown",
   "metadata": {},
   "source": [
    "#### Training"
   ]
  },
  {
   "cell_type": "code",
   "execution_count": 6,
   "metadata": {},
   "outputs": [
    {
     "name": "stdout",
     "output_type": "stream",
     "text": [
      "average_reward in last 1 steps -0.2860139687263995\n",
      "average_reward in last 1 steps 0.20253744956397837\n",
      "average_reward in last 1 steps 0.3332503727397117\n",
      "average_reward in last 1 steps 0.6605961949777595\n",
      "average_reward in last 1 steps 0.857003688320588\n",
      "average_reward in last 1 steps 1.0117765146096738\n",
      "average_reward in last 1 steps 1.1223285333875919\n",
      "average_reward in last 1 steps 1.0623977846482389\n",
      "average_reward in last 1 steps 1.0449036372692708\n",
      "average_reward in last 1 steps 1.1020230818744572\n"
     ]
    }
   ],
   "source": [
    "# Training\n",
    "i = 0\n",
    "while i < num_iterations_train:\n",
    "    i = i + 1\n",
    "    action = agent.choose_action(current_state)\n",
    "    next_state, reward, done, info = env.step(action)\n",
    "    agent.update_q_table(current_state, action, reward, next_state)\n",
    "    current_state = next_state\n",
    "    total_reward += reward\n",
    "\n",
    "    # Evaluate\n",
    "    if i % eval_iterations == 0:\n",
    "        print(\"average_reward in last 1 steps\", total_reward / i)\n",
    "        # Stop training if total reward is big enough\n",
    "        if (total_reward / i) > 2.0:\n",
    "            break\n",
    "        average_reward = 0\n",
    "        env.render = False"
   ]
  },
  {
   "cell_type": "markdown",
   "metadata": {},
   "source": [
    "#### Action-Space after training"
   ]
  },
  {
   "cell_type": "code",
   "execution_count": 7,
   "metadata": {},
   "outputs": [
    {
     "data": {
      "image/png": "[encoded data removed]",
      "text/plain": [
       "<Figure size 432x288 with 1 Axes>"
      ]
     },
     "metadata": {
      "needs_background": "light"
     },
     "output_type": "display_data"
    }
   ],
   "source": [
    "plt.imshow(agent.q_val_table)\n",
    "plt.show()"
   ]
  },
  {
   "cell_type": "markdown",
   "metadata": {},
   "source": [
    "#### Evaluate"
   ]
  },
  {
   "cell_type": "code",
   "execution_count": 8,
   "metadata": {},
   "outputs": [],
   "source": [
    "# Evaluating\n",
    "env = CrawlingRobotEnv(render=True, n_arms_state=n_arms_state, n_hand_state=n_hand_state)\n",
    "current_state=env.reset()\n",
    "total_reward = 0\n",
    "# Force epsilon-greedy to always use the max Q\n",
    "agent.e_greedy_prob = 0\n",
    "\n",
    "for i in range(100):\n",
    "    action = agent.choose_action(current_state)\n",
    "    next_state, reward, done, info = env.step(action)\n",
    "    current_state = next_state\n",
    "    total_reward += reward"
   ]
  },
  {
   "cell_type": "markdown",
   "metadata": {},
   "source": [
    "#### Attention, possible bug defining lists of lists"
   ]
  },
  {
   "cell_type": "code",
   "execution_count": 9,
   "metadata": {},
   "outputs": [],
   "source": [
    "#test = [[0.,0.,0.,0.], [0.,0.,0.,0.], [0.,0.,0.,0.], [0.,0.,0.,0.]]\n",
    "#test = [[0.]*4]*4\n",
    "test = [[0.] * 4 for _ in range(4)]"
   ]
  },
  {
   "cell_type": "code",
   "execution_count": 10,
   "metadata": {},
   "outputs": [
    {
     "data": {
      "text/plain": [
       "[[0.0, 0.0, 0.0, 0.0],\n",
       " [0.0, 0.0, 0.0, 0.0],\n",
       " [0.0, 0.0, 0.0, 0.0],\n",
       " [0.0, 0.0, 0.0, 0.0]]"
      ]
     },
     "execution_count": 10,
     "metadata": {},
     "output_type": "execute_result"
    }
   ],
   "source": [
    "test"
   ]
  },
  {
   "cell_type": "code",
   "execution_count": 11,
   "metadata": {},
   "outputs": [],
   "source": [
    "test[0][3] = 19.8"
   ]
  },
  {
   "cell_type": "code",
   "execution_count": 12,
   "metadata": {},
   "outputs": [
    {
     "data": {
      "text/plain": [
       "[[0.0, 0.0, 0.0, 19.8],\n",
       " [0.0, 0.0, 0.0, 0.0],\n",
       " [0.0, 0.0, 0.0, 0.0],\n",
       " [0.0, 0.0, 0.0, 0.0]]"
      ]
     },
     "execution_count": 12,
     "metadata": {},
     "output_type": "execute_result"
    }
   ],
   "source": [
    "test"
   ]
  },
  {
   "cell_type": "markdown",
   "metadata": {},
   "source": [
    "### Exponential Decay\n",
    "$$ y=a(1-b)^x $$"
   ]
  },
  {
   "cell_type": "code",
   "execution_count": 14,
   "metadata": {},
   "outputs": [],
   "source": [
    "def exp_decay(value, decay_factor):\n",
    "    y = value * (1-decay_factor)\n",
    "    return y"
   ]
  },
  {
   "cell_type": "code",
   "execution_count": 15,
   "metadata": {},
   "outputs": [],
   "source": [
    "value = 100\n",
    "value = exp_decay(value,0.5)"
   ]
  },
  {
   "cell_type": "code",
   "execution_count": null,
   "metadata": {},
   "outputs": [],
   "source": []
  }
 ],
 "metadata": {
  "kernelspec": {
   "display_name": "Python 3",
   "language": "python",
   "name": "python3"
  },
  "language_info": {
   "codemirror_mode": {
    "name": "ipython",
    "version": 3
   },
   "file_extension": ".py",
   "mimetype": "text/x-python",
   "name": "python",
   "nbconvert_exporter": "python",
   "pygments_lexer": "ipython3",
   "version": "3.7.4"
  }
 },
 "nbformat": 4,
 "nbformat_minor": 4
}
