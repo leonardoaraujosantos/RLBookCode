{
 "cells": [
  {
   "cell_type": "markdown",
   "metadata": {},
   "source": [
    "# Q-Learning (Crawling Robot)"
   ]
  },
  {
   "cell_type": "code",
   "execution_count": 1,
   "metadata": {},
   "outputs": [],
   "source": [
    "from agent import Q_Agent\n",
    "import numpy as np\n",
    "import math\n",
    "from crawler_env import CrawlingRobotEnv\n",
    "all_rewards = 0\n",
    "# On this reference environment the action space is 4 (simpler than lego)\n",
    "# Also it's state space is a bit more complex, including velocities, arm positions, etc...\n",
    "env = CrawlingRobotEnv(render=False)\n",
    "current_state = env.reset()\n",
    "agent = Q_Agent(env, gamma=0.9, alpha=0.2)\n",
    "total_reward = 0\n",
    "num_iterations_train = 900000"
   ]
  },
  {
   "cell_type": "markdown",
   "metadata": {},
   "source": [
    "### Action and State space"
   ]
  },
  {
   "cell_type": "code",
   "execution_count": 2,
   "metadata": {},
   "outputs": [
    {
     "name": "stdout",
     "output_type": "stream",
     "text": [
      "Robot action space: 4\n",
      "Robot state-space: 91\n",
      "Reset State: (3, 6)\n"
     ]
    }
   ],
   "source": [
    "# Get the action space\n",
    "print('Robot action space:', env.action_space.n)\n",
    "print('Robot state-space:', np.prod([state.n for state in env.observation_space]))\n",
    "print('Reset State:', current_state)"
   ]
  },
  {
   "cell_type": "code",
   "execution_count": 3,
   "metadata": {},
   "outputs": [
    {
     "data": {
      "text/plain": [
       "defaultdict(<function agent.Q_Agent.__init__.<locals>.<lambda>()>, {})"
      ]
     },
     "execution_count": 3,
     "metadata": {},
     "output_type": "execute_result"
    }
   ],
   "source": [
    "agent.q_val_table"
   ]
  },
  {
   "cell_type": "code",
   "execution_count": 4,
   "metadata": {},
   "outputs": [
    {
     "data": {
      "text/plain": [
       "0"
      ]
     },
     "execution_count": 4,
     "metadata": {},
     "output_type": "execute_result"
    }
   ],
   "source": [
    "np.random.choice(len(agent.q_val_table[0]))"
   ]
  },
  {
   "cell_type": "code",
   "execution_count": 5,
   "metadata": {},
   "outputs": [],
   "source": [
    "test = {(0,0):'a', (1,2):'b'}"
   ]
  },
  {
   "cell_type": "code",
   "execution_count": 6,
   "metadata": {},
   "outputs": [
    {
     "data": {
      "text/plain": [
       "'b'"
      ]
     },
     "execution_count": 6,
     "metadata": {},
     "output_type": "execute_result"
    }
   ],
   "source": [
    "test[(1,2)]"
   ]
  },
  {
   "cell_type": "code",
   "execution_count": 8,
   "metadata": {},
   "outputs": [],
   "source": [
    "tuple_2_index = {}\n",
    "index = 0\n",
    "for x in range(3):\n",
    "    for y in range(3):\n",
    "        tuple_2_index[(x,y)] = index\n",
    "        index +=1"
   ]
  },
  {
   "cell_type": "code",
   "execution_count": 9,
   "metadata": {},
   "outputs": [
    {
     "data": {
      "text/plain": [
       "{(0, 0): 0,\n",
       " (0, 1): 1,\n",
       " (0, 2): 2,\n",
       " (1, 0): 3,\n",
       " (1, 1): 4,\n",
       " (1, 2): 5,\n",
       " (2, 0): 6,\n",
       " (2, 1): 7,\n",
       " (2, 2): 8}"
      ]
     },
     "execution_count": 9,
     "metadata": {},
     "output_type": "execute_result"
    }
   ],
   "source": [
    "tuple_2_index"
   ]
  },
  {
   "cell_type": "code",
   "execution_count": null,
   "metadata": {},
   "outputs": [],
   "source": []
  }
 ],
 "metadata": {
  "kernelspec": {
   "display_name": "Python 3",
   "language": "python",
   "name": "python3"
  },
  "language_info": {
   "codemirror_mode": {
    "name": "ipython",
    "version": 3
   },
   "file_extension": ".py",
   "mimetype": "text/x-python",
   "name": "python",
   "nbconvert_exporter": "python",
   "pygments_lexer": "ipython3",
   "version": "3.7.4"
  }
 },
 "nbformat": 4,
 "nbformat_minor": 4
}
