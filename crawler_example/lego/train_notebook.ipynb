{
 "cells": [
  {
   "cell_type": "markdown",
   "metadata": {},
   "source": [
    "# Q-Learning (Crawling Robot)\n",
    "\n",
    "#### References\n",
    "* https://www.youtube.com/watch?v=F-kNXAFeffs\n",
    "* https://www.youtube.com/watch?v=bVbT9zkPIvs\n",
    "* https://github.com/Rosebotics/ev3dev-curriculum"
   ]
  },
  {
   "cell_type": "code",
   "execution_count": 1,
   "metadata": {},
   "outputs": [
    {
     "name": "stdout",
     "output_type": "stream",
     "text": [
      "Running on PC\n"
     ]
    }
   ],
   "source": [
    "import numpy as np\n",
    "import matplotlib.pyplot as plt\n",
    "from mpl_toolkits.mplot3d import Axes3D\n",
    "\n",
    "from crawler_lego_env import CrawlingRobotEnv\n",
    "from agent import Q_Agent\n",
    "\n",
    "try:\n",
    "    from pybricks.tools import print\n",
    "    running_on_lego = True\n",
    "except ModuleNotFoundError:\n",
    "    running_on_lego = False\n",
    "\n",
    "# Number seem to converge in simulation\n",
    "num_iterations_train = 400\n",
    "# Bigger values decay faster\n",
    "e_greedy_decay = 1. / num_iterations_train\n",
    "# Initial agent action probability (just try things at random)\n",
    "initial_e_greedy_prob = 1.0\n",
    "# Number of iterations before check statitics of reward\n",
    "num_steps_eval = num_iterations_train//10"
   ]
  },
  {
   "cell_type": "markdown",
   "metadata": {},
   "source": [
    "#### Create Environment"
   ]
  },
  {
   "cell_type": "code",
   "execution_count": 2,
   "metadata": {},
   "outputs": [],
   "source": [
    "env = CrawlingRobotEnv(invert_reward=False, run_on_lego=running_on_lego, step_angle=45)\n",
    "current_state = env.reset()"
   ]
  },
  {
   "cell_type": "markdown",
   "metadata": {},
   "source": [
    "### Action and State space before training"
   ]
  },
  {
   "cell_type": "code",
   "execution_count": 3,
   "metadata": {},
   "outputs": [
    {
     "name": "stdout",
     "output_type": "stream",
     "text": [
      "Robot action space: 6\n",
      "Robot state-space: 9\n",
      "Reset State: 0\n"
     ]
    }
   ],
   "source": [
    "# Get the action space\n",
    "print('Robot action space:', env.action_space)\n",
    "print('Robot state-space:', env.observation_space)\n",
    "print('Reset State:', current_state)"
   ]
  },
  {
   "cell_type": "markdown",
   "metadata": {},
   "source": [
    "#### Create Agent"
   ]
  },
  {
   "cell_type": "code",
   "execution_count": 4,
   "metadata": {},
   "outputs": [],
   "source": [
    "agent = Q_Agent(env, gamma=0.9, alpha=0.2, e_greedy_prob=initial_e_greedy_prob, e_greedy_decay=e_greedy_decay)"
   ]
  },
  {
   "cell_type": "markdown",
   "metadata": {},
   "source": [
    "##### Agent Internal Action-Space table"
   ]
  },
  {
   "cell_type": "code",
   "execution_count": 5,
   "metadata": {},
   "outputs": [
    {
     "data": {
      "image/png": "[encoded data removed]",
      "text/plain": [
       "<Figure size 432x288 with 1 Axes>"
      ]
     },
     "metadata": {
      "needs_background": "light"
     },
     "output_type": "display_data"
    }
   ],
   "source": [
    "plt.imshow(agent.q_val_table)\n",
    "plt.show()"
   ]
  },
  {
   "cell_type": "markdown",
   "metadata": {},
   "source": [
    "#### Training"
   ]
  },
  {
   "cell_type": "code",
   "execution_count": 6,
   "metadata": {},
   "outputs": [
    {
     "name": "stdout",
     "output_type": "stream",
     "text": [
      "\t\t*******Sum of rewards in 40 steps: -40\n",
      "Experience: (2, 0) not recorded\n",
      "\t\t*******Sum of rewards in 40 steps: -453\n",
      "Experience: (1, 0) not recorded\n",
      "\t\t*******Sum of rewards in 40 steps: -634\n",
      "\t\t*******Sum of rewards in 40 steps: -434\n",
      "\t\t*******Sum of rewards in 40 steps: -422\n",
      "\t\t*******Sum of rewards in 40 steps: -254\n",
      "Experience: (1, 1) not recorded\n",
      "\t\t*******Sum of rewards in 40 steps: -183\n",
      "Experience: (1, 1) not recorded\n",
      "\t\t*******Sum of rewards in 40 steps: -121\n",
      "\t\t*******Sum of rewards in 40 steps: -146\n",
      "Experience: (1, 1) not recorded\n",
      "\t\t*******Sum of rewards in 40 steps: -115\n",
      "Experience: (1, 0) not recorded\n"
     ]
    }
   ],
   "source": [
    "# Train\n",
    "sum_rewards = 0\n",
    "sum_rewards_vec = []\n",
    "probabilities_vec = []\n",
    "for steps in range(num_iterations_train):\n",
    "    action = agent.choose_action(current_state)\n",
    "    current_state_str = str(env)\n",
    "    next_state, reward, done, info = env.step(action)\n",
    "    next_state_str = env.state_idx_to_str(next_state)\n",
    "    action_str = env.action_idx_to_str(action)\n",
    "    agent.update_q_table(current_state, action, reward, next_state)\n",
    "    #print('steps:', steps, '\\n\\tcurrent_state:', current_state_str, '\\n\\tACTION:', action_str, '\\n\\tnext_state:',\n",
    "    #      next_state_str, '\\n\\treward:', reward, '\\nprob:', agent.e_greedy_prob)\n",
    "    #print('-' * 20)\n",
    "    # Don't forget to update your state otherwise the robot will be stuck\n",
    "    current_state = next_state\n",
    "    # Accumulate rewards\n",
    "    sum_rewards += reward\n",
    "    probabilities_vec.append(agent.e_greedy_prob)\n",
    "    if steps % num_steps_eval == 0:\n",
    "        sum_rewards_vec.append(sum_rewards)\n",
    "        print('\\t\\t*******Sum of rewards in %d steps: %d' % (num_steps_eval, sum_rewards))\n",
    "        sum_rewards = 0"
   ]
  },
  {
   "cell_type": "markdown",
   "metadata": {},
   "source": [
    "#### Some Training Statistics"
   ]
  },
  {
   "cell_type": "code",
   "execution_count": 7,
   "metadata": {},
   "outputs": [
    {
     "data": {
      "image/png": "[encoded data removed]",
      "text/plain": [
       "<Figure size 432x288 with 1 Axes>"
      ]
     },
     "metadata": {
      "needs_background": "light"
     },
     "output_type": "display_data"
    },
    {
     "data": {
      "image/png": "[encoded data removed]",
      "text/plain": [
       "<Figure size 432x288 with 1 Axes>"
      ]
     },
     "metadata": {
      "needs_background": "light"
     },
     "output_type": "display_data"
    }
   ],
   "source": [
    "plt.plot(sum_rewards_vec)\n",
    "plt.title('Sum of rewards')\n",
    "plt.show()\n",
    "plt.plot(probabilities_vec)\n",
    "plt.title('Random probability')\n",
    "plt.show()"
   ]
  },
  {
   "cell_type": "markdown",
   "metadata": {},
   "source": [
    "#### Action-Space after training"
   ]
  },
  {
   "cell_type": "code",
   "execution_count": 8,
   "metadata": {},
   "outputs": [
    {
     "data": {
      "image/png": "[encoded data removed]",
      "text/plain": [
       "<Figure size 432x288 with 1 Axes>"
      ]
     },
     "metadata": {
      "needs_background": "light"
     },
     "output_type": "display_data"
    }
   ],
   "source": [
    "#agent.q_val_table = [[-13.58984620840813, 0.2187536492376747, 0.0963667182103613, -13.11274392636312, 0.6787333128779888, 2.953700736414834], [-11.7068865942528, 0.0269698545074915, 0.3267419239160485, 2.598730462640862, -9.523228199268605, -1.494831953993251], [-14.26528710733199, 0.9117472314216489, 2.080126795991999, 0.4473703673047298, 0.6600991679602686, -17.41762065068228], [2.21749490990893, 0.0, 0.0, -3.712551492626162, 0.0, 0.0], [0.0, -7.2, 0.036711261503015, 0.8483575436503623, 0.0, 0.0], [-0.2871126783999999, -7.024250699074725, 4.877072568769774, 0.0, 0.0, -11.63225069907473], [1.253523642818695, 0.0, -7.175987067525121, -4.0, 0.006351971788800003, -0.6241312772028415], [-0.01896386718846244, 0.2743854049288826, -7.2, -5.086298502026589, -9.582460613680484, -1.492714020178519], [1.614901162638076, 0.394841019154007, -9.423567353490917, 1.28, 6.895296534571973, -10.26855750043806]]\n",
    "plt.imshow(agent.q_val_table)\n",
    "plt.show()"
   ]
  },
  {
   "cell_type": "code",
   "execution_count": 9,
   "metadata": {},
   "outputs": [
    {
     "data": {
      "image/png": "[encoded data removed]",
      "text/plain": [
       "<Figure size 432x288 with 1 Axes>"
      ]
     },
     "metadata": {
      "needs_background": "light"
     },
     "output_type": "display_data"
    }
   ],
   "source": [
    "# Convert 2D list to numpy array\n",
    "q_val_table = np.array(agent.q_val_table)\n",
    "nx, ny = q_val_table.shape[1], q_val_table.shape[0]\n",
    "x = range(nx)\n",
    "y = range(ny)\n",
    "hf = plt.figure()\n",
    "ha = hf.add_subplot(111, projection='3d')\n",
    "X, Y = np.meshgrid(x, y)\n",
    "ha.plot_surface(X, Y, q_val_table)\n",
    "plt.title('Q Action-Space surface')\n",
    "plt.show()"
   ]
  },
  {
   "cell_type": "markdown",
   "metadata": {},
   "source": [
    "#### Evaluate"
   ]
  },
  {
   "cell_type": "code",
   "execution_count": 10,
   "metadata": {},
   "outputs": [
    {
     "name": "stdout",
     "output_type": "stream",
     "text": [
      "steps: 0 \n",
      "\tcurrent_state: leg:UP feet:DOWN \n",
      "\tACTION: leg DOWN idx:2 \n",
      "\tnext_state: leg:DOWN feet:DOWN \n",
      "\treward: 0 \n",
      "prob: 0\n",
      "--------------------\n",
      "steps: 1 \n",
      "\tcurrent_state: leg:DOWN feet:DOWN \n",
      "\tACTION: feet UP idx:4 \n",
      "\tnext_state: leg:DOWN feet:UP \n",
      "\treward: 13 \n",
      "prob: 0\n",
      "--------------------\n",
      "steps: 2 \n",
      "\tcurrent_state: leg:DOWN feet:UP \n",
      "\tACTION: leg UP idx:1 \n",
      "\tnext_state: leg:UP feet:UP \n",
      "\treward: 0 \n",
      "prob: 0\n",
      "--------------------\n",
      "steps: 3 \n",
      "\tcurrent_state: leg:UP feet:UP \n",
      "\tACTION: feet DOWN idx:5 \n",
      "\tnext_state: leg:UP feet:DOWN \n",
      "\treward: 0 \n",
      "prob: 0\n",
      "--------------------\n",
      "steps: 4 \n",
      "\tcurrent_state: leg:UP feet:DOWN \n",
      "\tACTION: leg DOWN idx:2 \n",
      "\tnext_state: leg:DOWN feet:DOWN \n",
      "\treward: 0 \n",
      "prob: 0\n",
      "--------------------\n",
      "steps: 5 \n",
      "\tcurrent_state: leg:DOWN feet:DOWN \n",
      "\tACTION: feet UP idx:4 \n",
      "\tnext_state: leg:DOWN feet:UP \n",
      "\treward: 13 \n",
      "prob: 0\n",
      "--------------------\n",
      "steps: 6 \n",
      "\tcurrent_state: leg:DOWN feet:UP \n",
      "\tACTION: leg UP idx:1 \n",
      "\tnext_state: leg:UP feet:UP \n",
      "\treward: 0 \n",
      "prob: 0\n",
      "--------------------\n",
      "steps: 7 \n",
      "\tcurrent_state: leg:UP feet:UP \n",
      "\tACTION: feet DOWN idx:5 \n",
      "\tnext_state: leg:UP feet:DOWN \n",
      "\treward: 0 \n",
      "prob: 0\n",
      "--------------------\n",
      "steps: 8 \n",
      "\tcurrent_state: leg:UP feet:DOWN \n",
      "\tACTION: leg DOWN idx:2 \n",
      "\tnext_state: leg:DOWN feet:DOWN \n",
      "\treward: 0 \n",
      "prob: 0\n",
      "--------------------\n",
      "steps: 9 \n",
      "\tcurrent_state: leg:DOWN feet:DOWN \n",
      "\tACTION: feet UP idx:4 \n",
      "\tnext_state: leg:DOWN feet:UP \n",
      "\treward: 13 \n",
      "prob: 0\n",
      "--------------------\n",
      "steps: 10 \n",
      "\tcurrent_state: leg:DOWN feet:UP \n",
      "\tACTION: leg UP idx:1 \n",
      "\tnext_state: leg:UP feet:UP \n",
      "\treward: 0 \n",
      "prob: 0\n",
      "--------------------\n",
      "steps: 11 \n",
      "\tcurrent_state: leg:UP feet:UP \n",
      "\tACTION: feet DOWN idx:5 \n",
      "\tnext_state: leg:UP feet:DOWN \n",
      "\treward: 0 \n",
      "prob: 0\n",
      "--------------------\n",
      "steps: 12 \n",
      "\tcurrent_state: leg:UP feet:DOWN \n",
      "\tACTION: leg DOWN idx:2 \n",
      "\tnext_state: leg:DOWN feet:DOWN \n",
      "\treward: 0 \n",
      "prob: 0\n",
      "--------------------\n",
      "steps: 13 \n",
      "\tcurrent_state: leg:DOWN feet:DOWN \n",
      "\tACTION: feet UP idx:4 \n",
      "\tnext_state: leg:DOWN feet:UP \n",
      "\treward: 13 \n",
      "prob: 0\n",
      "--------------------\n",
      "steps: 14 \n",
      "\tcurrent_state: leg:DOWN feet:UP \n",
      "\tACTION: leg UP idx:1 \n",
      "\tnext_state: leg:UP feet:UP \n",
      "\treward: 0 \n",
      "prob: 0\n",
      "--------------------\n",
      "steps: 15 \n",
      "\tcurrent_state: leg:UP feet:UP \n",
      "\tACTION: feet DOWN idx:5 \n",
      "\tnext_state: leg:UP feet:DOWN \n",
      "\treward: 0 \n",
      "prob: 0\n",
      "--------------------\n",
      "steps: 16 \n",
      "\tcurrent_state: leg:UP feet:DOWN \n",
      "\tACTION: leg DOWN idx:2 \n",
      "\tnext_state: leg:DOWN feet:DOWN \n",
      "\treward: 0 \n",
      "prob: 0\n",
      "--------------------\n",
      "steps: 17 \n",
      "\tcurrent_state: leg:DOWN feet:DOWN \n",
      "\tACTION: feet UP idx:4 \n",
      "\tnext_state: leg:DOWN feet:UP \n",
      "\treward: 13 \n",
      "prob: 0\n",
      "--------------------\n",
      "steps: 18 \n",
      "\tcurrent_state: leg:DOWN feet:UP \n",
      "\tACTION: leg UP idx:1 \n",
      "\tnext_state: leg:UP feet:UP \n",
      "\treward: 0 \n",
      "prob: 0\n",
      "--------------------\n",
      "steps: 19 \n",
      "\tcurrent_state: leg:UP feet:UP \n",
      "\tACTION: feet DOWN idx:5 \n",
      "\tnext_state: leg:UP feet:DOWN \n",
      "\treward: 0 \n",
      "prob: 0\n",
      "--------------------\n",
      "steps: 20 \n",
      "\tcurrent_state: leg:UP feet:DOWN \n",
      "\tACTION: leg DOWN idx:2 \n",
      "\tnext_state: leg:DOWN feet:DOWN \n",
      "\treward: 0 \n",
      "prob: 0\n",
      "--------------------\n",
      "steps: 21 \n",
      "\tcurrent_state: leg:DOWN feet:DOWN \n",
      "\tACTION: feet UP idx:4 \n",
      "\tnext_state: leg:DOWN feet:UP \n",
      "\treward: 13 \n",
      "prob: 0\n",
      "--------------------\n",
      "steps: 22 \n",
      "\tcurrent_state: leg:DOWN feet:UP \n",
      "\tACTION: leg UP idx:1 \n",
      "\tnext_state: leg:UP feet:UP \n",
      "\treward: 0 \n",
      "prob: 0\n",
      "--------------------\n",
      "steps: 23 \n",
      "\tcurrent_state: leg:UP feet:UP \n",
      "\tACTION: feet DOWN idx:5 \n",
      "\tnext_state: leg:UP feet:DOWN \n",
      "\treward: 0 \n",
      "prob: 0\n",
      "--------------------\n",
      "steps: 24 \n",
      "\tcurrent_state: leg:UP feet:DOWN \n",
      "\tACTION: leg DOWN idx:2 \n",
      "\tnext_state: leg:DOWN feet:DOWN \n",
      "\treward: 0 \n",
      "prob: 0\n",
      "--------------------\n",
      "steps: 25 \n",
      "\tcurrent_state: leg:DOWN feet:DOWN \n",
      "\tACTION: feet UP idx:4 \n",
      "\tnext_state: leg:DOWN feet:UP \n",
      "\treward: 13 \n",
      "prob: 0\n",
      "--------------------\n",
      "steps: 26 \n",
      "\tcurrent_state: leg:DOWN feet:UP \n",
      "\tACTION: leg UP idx:1 \n",
      "\tnext_state: leg:UP feet:UP \n",
      "\treward: 0 \n",
      "prob: 0\n",
      "--------------------\n",
      "steps: 27 \n",
      "\tcurrent_state: leg:UP feet:UP \n",
      "\tACTION: feet DOWN idx:5 \n",
      "\tnext_state: leg:UP feet:DOWN \n",
      "\treward: 0 \n",
      "prob: 0\n",
      "--------------------\n",
      "steps: 28 \n",
      "\tcurrent_state: leg:UP feet:DOWN \n",
      "\tACTION: leg DOWN idx:2 \n",
      "\tnext_state: leg:DOWN feet:DOWN \n",
      "\treward: 0 \n",
      "prob: 0\n",
      "--------------------\n",
      "steps: 29 \n",
      "\tcurrent_state: leg:DOWN feet:DOWN \n",
      "\tACTION: feet UP idx:4 \n",
      "\tnext_state: leg:DOWN feet:UP \n",
      "\treward: 13 \n",
      "prob: 0\n",
      "--------------------\n",
      "steps: 30 \n",
      "\tcurrent_state: leg:DOWN feet:UP \n",
      "\tACTION: leg UP idx:1 \n",
      "\tnext_state: leg:UP feet:UP \n",
      "\treward: 0 \n",
      "prob: 0\n",
      "--------------------\n",
      "steps: 31 \n",
      "\tcurrent_state: leg:UP feet:UP \n",
      "\tACTION: feet DOWN idx:5 \n",
      "\tnext_state: leg:UP feet:DOWN \n",
      "\treward: 0 \n",
      "prob: 0\n",
      "--------------------\n",
      "steps: 32 \n",
      "\tcurrent_state: leg:UP feet:DOWN \n",
      "\tACTION: leg DOWN idx:2 \n",
      "\tnext_state: leg:DOWN feet:DOWN \n",
      "\treward: 0 \n",
      "prob: 0\n",
      "--------------------\n",
      "steps: 33 \n",
      "\tcurrent_state: leg:DOWN feet:DOWN \n",
      "\tACTION: feet UP idx:4 \n",
      "\tnext_state: leg:DOWN feet:UP \n",
      "\treward: 13 \n",
      "prob: 0\n",
      "--------------------\n",
      "steps: 34 \n",
      "\tcurrent_state: leg:DOWN feet:UP \n",
      "\tACTION: leg UP idx:1 \n",
      "\tnext_state: leg:UP feet:UP \n",
      "\treward: 0 \n",
      "prob: 0\n",
      "--------------------\n",
      "steps: 35 \n",
      "\tcurrent_state: leg:UP feet:UP \n",
      "\tACTION: feet DOWN idx:5 \n",
      "\tnext_state: leg:UP feet:DOWN \n",
      "\treward: 0 \n",
      "prob: 0\n",
      "--------------------\n",
      "steps: 36 \n",
      "\tcurrent_state: leg:UP feet:DOWN \n",
      "\tACTION: leg DOWN idx:2 \n",
      "\tnext_state: leg:DOWN feet:DOWN \n",
      "\treward: 0 \n",
      "prob: 0\n",
      "--------------------\n",
      "steps: 37 \n",
      "\tcurrent_state: leg:DOWN feet:DOWN \n",
      "\tACTION: feet UP idx:4 \n",
      "\tnext_state: leg:DOWN feet:UP \n",
      "\treward: 13 \n",
      "prob: 0\n",
      "--------------------\n",
      "steps: 38 \n",
      "\tcurrent_state: leg:DOWN feet:UP \n",
      "\tACTION: leg UP idx:1 \n",
      "\tnext_state: leg:UP feet:UP \n",
      "\treward: 0 \n",
      "prob: 0\n",
      "--------------------\n",
      "steps: 39 \n",
      "\tcurrent_state: leg:UP feet:UP \n",
      "\tACTION: feet DOWN idx:5 \n",
      "\tnext_state: leg:UP feet:DOWN \n",
      "\treward: 0 \n",
      "prob: 0\n",
      "--------------------\n",
      "Sum of rewards in 40 steps: 260\n"
     ]
    }
   ],
   "source": [
    "agent.e_greedy_prob = 0\n",
    "sum_rewards = 0\n",
    "for steps in range(num_steps_eval):\n",
    "    # Greedly run actions without learn anymore\n",
    "    current_state_str = str(env)\n",
    "    action = agent.choose_action(current_state)\n",
    "    next_state, reward, done, info = env.step(action)\n",
    "    action_str = env.action_idx_to_str(action)\n",
    "    next_state_str = env.state_idx_to_str(next_state)\n",
    "    print('steps:', steps, '\\n\\tcurrent_state:', current_state_str, '\\n\\tACTION:', action_str, '\\n\\tnext_state:',\n",
    "          next_state_str, '\\n\\treward:', reward, '\\nprob:', agent.e_greedy_prob)\n",
    "    print('-' * 20)\n",
    "    sum_rewards += reward\n",
    "    # Don't forget to update your state otherwise the robot will be stuck\n",
    "    current_state = next_state\n",
    "    # Accumulate rewards\n",
    "    sum_rewards += reward\n",
    "print('Sum of rewards in %d steps: %d' % (num_steps_eval, sum_rewards))"
   ]
  }
 ],
 "metadata": {
  "kernelspec": {
   "display_name": "Python 3",
   "language": "python",
   "name": "python3"
  },
  "language_info": {
   "codemirror_mode": {
    "name": "ipython",
    "version": 3
   },
   "file_extension": ".py",
   "mimetype": "text/x-python",
   "name": "python",
   "nbconvert_exporter": "python",
   "pygments_lexer": "ipython3",
   "version": "3.7.4"
  }
 },
 "nbformat": 4,
 "nbformat_minor": 4
}
